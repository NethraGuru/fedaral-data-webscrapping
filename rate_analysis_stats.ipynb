{
 "cells": [
  {
   "cell_type": "markdown",
   "metadata": {},
   "source": [
    "# Interest Rates Analysis\n",
    "This notebook analyzes different interest rates (Federal Funds Rate, 1-Year Treasury Rate, and 10-Year Treasury Rate) from 2015 to 2024."
   ]
  },
  {
   "cell_type": "markdown",
   "metadata": {},
   "source": [
    "## Setup\n",
    "Import required libraries and set visualization styles."
   ]
  },
  {
   "cell_type": "code",
   "execution_count": null,
   "metadata": {},
   "outputs": [],
   "source": [
    "import pandas as pd\n",
    "import matplotlib.pyplot as plt\n",
    "import seaborn as sns\n",
    "\n",
    "# Set style for better visualizations\n",
    "plt.style.use('seaborn')\n",
    "sns.set_palette('deep')\n"
   ]
  },
  {
   "cell_type": "markdown",
   "metadata": {},
   "source": [
    "## Data Loading and Preprocessing\n",
    "Load the cleaned data files and convert dates to datetime format."
   ]
  },
  {
   "cell_type": "code",
   "execution_count": null,
   "metadata": {},
   "outputs": [],
   "source": [
    "# Load the cleaned data\n",
    "federal_funds = pd.read_csv('cleaned_Federal_Funds_Rate.csv')\n",
    "treasury_1y = pd.read_csv('cleaned_1_Year_Treasury_Rate.csv')\n",
    "treasury_10y = pd.read_csv('cleaned_10_Year_Treasury_Rate.csv')\n",
    "\n",
    "# Convert Original_Value to datetime\n",
    "federal_funds['Original_Value'] = pd.to_datetime(federal_funds['Original_Value'])\n",
    "treasury_1y['Original_Value'] = pd.to_datetime(treasury_1y['Original_Value'])\n",
    "treasury_10y['Original_Value'] = pd.to_datetime(treasury_10y['Original_Value'])\n"
   ]
  },
  {
   "cell_type": "markdown",
   "metadata": {},
   "source": [
    "## Time Series Visualization\n",
    "Create a time series plot comparing all three interest rates over time."
   ]
  },
  {
   "cell_type": "code",
   "execution_count": null,
   "metadata": {},
   "outputs": [],
   "source": [
    "# Create a time series plot\n",
    "plt.figure(figsize=(15, 8))\n",
    "\n",
    "plt.plot(federal_funds['Original_Value'], federal_funds['Rate'], label='Federal Funds Rate')\n",
    "plt.plot(treasury_1y['Original_Value'], treasury_1y['Rate'], label='1-Year Treasury Rate')\n",
    "plt.plot(treasury_10y['Original_Value'], treasury_10y['Rate'], label='10-Year Treasury Rate')\n",
    "\n",
    "plt.title('Interest Rates Comparison (2015-2024)', fontsize=14)\n",
    "plt.xlabel('Date', fontsize=12)\n",
    "plt.ylabel('Rate (%)', fontsize=12)\n",
    "plt.legend(fontsize=10)\n",
    "plt.grid(True)\n",
    "\n",
    "# Rotate x-axis labels for better readability\n",
    "plt.xticks(rotation=45)\n",
    "\n",
    "plt.tight_layout()\n",
    "plt.savefig('interest_rates_comparison.png')\n",
    "plt.show()\n"
   ]
  },
  {
   "cell_type": "markdown",
   "metadata": {},
   "source": [
    "## Statistical Analysis\n",
    "Calculate and display basic statistical measures for each interest rate."
   ]
  },
  {
   "cell_type": "code",
   "execution_count": null,
   "metadata": {},
   "outputs": [],
   "source": [
    "# Calculate basic statistics\n",
    "def print_statistics(data, rate_name):\n",
    "    print(f'\n{rate_name} Statistics:')\n",
    "    print(f'Mean Rate: {data[\"Rate\"].mean():.2f}%')\n",
    "    print(f'Median Rate: {data[\"Rate\"].median():.2f}%')\n",
    "    print(f'Standard Deviation: {data[\"Rate\"].std():.2f}')\n",
    "    print(f'Min Rate: {data[\"Rate\"].min():.2f}%')\n",
    "    print(f'Max Rate: {data[\"Rate\"].max():.2f}%')\n",
    "\n",
    "print_statistics(federal_funds, 'Federal Funds')\n",
    "print_statistics(treasury_1y, '1-Year Treasury')\n",
    "print_statistics(treasury_10y, '10-Year Treasury')\n"
   ]
  },
  {
   "cell_type": "markdown",
   "metadata": {},
   "source": [
    "## Correlation Analysis\n",
    "Visualize the correlations between different interest rates using a heatmap."
   ]
  },
  {
   "cell_type": "code",
   "execution_count": null,
   "metadata": {},
   "outputs": [],
   "source": [
    "# Calculate correlations between rates\n",
    "correlations = pd.DataFrame({\n",
    "    'Federal_Funds': federal_funds['Rate'],\n",
    "    'Treasury_1Y': treasury_1y['Rate'],\n",
    "    'Treasury_10Y': treasury_10y['Rate']\n",
    "})\n",
    "\n",
    "plt.figure(figsize=(10, 8))\n",
    "sns.heatmap(correlations.corr(), annot=True, cmap='coolwarm', vmin=-1, vmax=1, center=0)\n",
    "plt.title('Correlation between Different Interest Rates', fontsize=14)\n",
    "plt.tight_layout()\n",
    "plt.show()\n"
   ]
  },
  {
   "cell_type": "markdown",
   "metadata": {},
   "source": [
    "## Year-over-Year Analysis\n",
    "Calculate and visualize the year-over-year changes in interest rates."
   ]
  },
  {
   "cell_type": "code",
   "execution_count": null,
   "metadata": {},
   "outputs": [],
   "source": [
    "# Calculate year-over-year changes\n",
    "def calculate_yoy_change(data):\n",
    "    yearly_avg = data.groupby('Year')['Rate'].mean()\n",
    "    return yearly_avg.pct_change() * 100\n",
    "\n",
    "plt.figure(figsize=(15, 8))\n",
    "\n",
    "plt.plot(calculate_yoy_change(federal_funds).index, calculate_yoy_change(federal_funds).values, \n",
    "         label='Federal Funds Rate', marker='o')\n",
    "plt.plot(calculate_yoy_change(treasury_1y).index, calculate_yoy_change(treasury_1y).values, \n",
    "         label='1-Year Treasury Rate', marker='s')\n",
    "plt.plot(calculate_yoy_change(treasury_10y).index, calculate_yoy_change(treasury_10y).values, \n",
    "         label='10-Year Treasury Rate', marker='^')\n",
    "\n",
    "plt.title('Year-over-Year Change in Interest Rates', fontsize=14)\n",
    "plt.xlabel('Year', fontsize=12)\n",
    "plt.ylabel('Percentage Change (%)', fontsize=12)\n",
    "plt.legend(fontsize=10)\n",
    "plt.grid(True)\n",
    "\n",
    "plt.tight_layout()\n",
    "plt.show()\n"
   ]
  }
 ],
 "metadata": {
  "kernelspec": {
   "display_name": "Python 3",
   "language": "python",
   "name": "python3"
  },
  "language_info": {
   "codemirror_mode": {
    "name": "ipython",
    "version": 3
   },
   "file_extension": ".py",
   "mimetype": "text/x-python",
   "name": "python",
   "nbconvert_exporter": "python",
   "pygments_lexer": "ipython3",
   "version": "3.8.0"
  }
 },
 "nbformat": 4,
 "nbformat_minor": 4
}